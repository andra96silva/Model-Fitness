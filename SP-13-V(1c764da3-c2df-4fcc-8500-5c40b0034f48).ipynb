{
 "cells": [
  {
   "cell_type": "markdown",
   "metadata": {},
   "source": [
    "Hola **Andrea**!\n",
    "\n",
    "Soy **Patricio Requena** 👋. Es un placer ser el revisor de tu proyecto el día de hoy!\n",
    "\n",
    "Revisaré tu proyecto detenidamente con el objetivo de ayudarte a mejorar y perfeccionar tus habilidades. Durante mi revisión, identificaré áreas donde puedas hacer mejoras en tu código, señalando específicamente qué y cómo podrías ajustar para optimizar el rendimiento y la claridad de tu proyecto. Además, es importante para mí destacar los aspectos que has manejado excepcionalmente bien. Reconocer tus fortalezas te ayudará a entender qué técnicas y métodos están funcionando a tu favor y cómo puedes aplicarlos en futuras tareas. \n",
    "\n",
    "_**Recuerda que al final de este notebook encontrarás un comentario general de mi parte**_, empecemos!\n",
    "\n",
    "Encontrarás mis comentarios dentro de cajas verdes, amarillas o rojas, ⚠️ **por favor, no muevas, modifiques o borres mis comentarios** ⚠️:\n",
    "\n",
    "\n",
    "<div class=\"alert alert-block alert-success\">\n",
    "<b>Comentario del revisor</b> <a class=“tocSkip”></a>\n",
    "Si todo está perfecto.\n",
    "</div>\n",
    "\n",
    "<div class=\"alert alert-block alert-warning\">\n",
    "<b>Comentario del revisor</b> <a class=“tocSkip”></a>\n",
    "Si tu código está bien pero se puede mejorar o hay algún detalle que le hace falta.\n",
    "</div>\n",
    "\n",
    "<div class=\"alert alert-block alert-danger\">\n",
    "<b>Comentario del revisor</b> <a class=“tocSkip”></a>\n",
    "Si de pronto hace falta algo o existe algún problema con tu código o conclusiones.\n",
    "</div>\n",
    "\n",
    "Puedes responderme de esta forma:\n",
    "<div class=\"alert alert-block alert-info\">\n",
    "<b>Respuesta del estudiante</b> <a class=“tocSkip”></a>\n",
    "</div>"
   ]
  },
  {
   "cell_type": "markdown",
   "metadata": {},
   "source": [
    "<div class=\"alert alert-block alert-warning\">\n",
    "<b>Comentario del revisor (1ra Iteracion)</b> <a class=“tocSkip”></a>\n",
    "\n",
    "Para dar una correcta presentación de tu proyecto procura siempre incluir un título y un párrafo introductorio al mismo, recuerda que los títulos se deben escribir así en celdas markdown: `# Título`\n",
    "</div>"
   ]
  },
  {
   "cell_type": "code",
   "execution_count": 1,
   "metadata": {},
   "outputs": [],
   "source": [
    "#importe de librerias \n",
    "import pandas as pd \n",
    "import matplotlib.pyplot as plt \n",
    "import seaborn as sns\n",
    "from sklearn.model_selection import train_test_split\n",
    "from sklearn.ensemble import RandomForestClassifier\n",
    "import tensorflow as tf\n",
    "from sklearn.metrics import mean_absolute_error, mean_squared_error, r2_score\n",
    "from sklearn.metrics import accuracy_score, classification_report, confusion_matrix\n",
    "from sklearn.linear_model import LogisticRegression\n",
    "from sklearn.linear_model import Lasso, Ridge\n",
    "import numpy as np \n",
    "from scipy.cluster.hierarchy import linkage, dendrogram\n",
    "from sklearn.preprocessing import StandardScaler \n",
    "from sklearn.cluster import KMeans \n",
    "\n",
    "\n",
    "\n",
    "\n",
    "\n"
   ]
  },
  {
   "cell_type": "code",
   "execution_count": 2,
   "metadata": {},
   "outputs": [],
   "source": [
    "# Lectura de los datos.\n",
    "gym=pd.read_csv('/datasets/gym_churn_us.csv')"
   ]
  },
  {
   "cell_type": "markdown",
   "metadata": {},
   "source": [
    "# Paso 1. Descargar los datos"
   ]
  },
  {
   "cell_type": "markdown",
   "metadata": {},
   "source": [
    "Observa el dataset: ¿contiene alguna característica ausente? Estudia los valores promedio y la desviación estándar (utiliza el método describe())."
   ]
  },
  {
   "cell_type": "code",
   "execution_count": 3,
   "metadata": {},
   "outputs": [
    {
     "data": {
      "text/html": [
       "<div>\n",
       "<style scoped>\n",
       "    .dataframe tbody tr th:only-of-type {\n",
       "        vertical-align: middle;\n",
       "    }\n",
       "\n",
       "    .dataframe tbody tr th {\n",
       "        vertical-align: top;\n",
       "    }\n",
       "\n",
       "    .dataframe thead th {\n",
       "        text-align: right;\n",
       "    }\n",
       "</style>\n",
       "<table border=\"1\" class=\"dataframe\">\n",
       "  <thead>\n",
       "    <tr style=\"text-align: right;\">\n",
       "      <th></th>\n",
       "      <th>gender</th>\n",
       "      <th>Near_Location</th>\n",
       "      <th>Partner</th>\n",
       "      <th>Promo_friends</th>\n",
       "      <th>Phone</th>\n",
       "      <th>Contract_period</th>\n",
       "      <th>Group_visits</th>\n",
       "      <th>Age</th>\n",
       "      <th>Avg_additional_charges_total</th>\n",
       "      <th>Month_to_end_contract</th>\n",
       "      <th>Lifetime</th>\n",
       "      <th>Avg_class_frequency_total</th>\n",
       "      <th>Avg_class_frequency_current_month</th>\n",
       "      <th>Churn</th>\n",
       "    </tr>\n",
       "  </thead>\n",
       "  <tbody>\n",
       "    <tr>\n",
       "      <th>count</th>\n",
       "      <td>4000.000000</td>\n",
       "      <td>4000.000000</td>\n",
       "      <td>4000.000000</td>\n",
       "      <td>4000.000000</td>\n",
       "      <td>4000.000000</td>\n",
       "      <td>4000.000000</td>\n",
       "      <td>4000.000000</td>\n",
       "      <td>4000.000000</td>\n",
       "      <td>4000.000000</td>\n",
       "      <td>4000.000000</td>\n",
       "      <td>4000.000000</td>\n",
       "      <td>4000.000000</td>\n",
       "      <td>4000.000000</td>\n",
       "      <td>4000.000000</td>\n",
       "    </tr>\n",
       "    <tr>\n",
       "      <th>mean</th>\n",
       "      <td>0.510250</td>\n",
       "      <td>0.845250</td>\n",
       "      <td>0.486750</td>\n",
       "      <td>0.308500</td>\n",
       "      <td>0.903500</td>\n",
       "      <td>4.681250</td>\n",
       "      <td>0.412250</td>\n",
       "      <td>29.184250</td>\n",
       "      <td>146.943728</td>\n",
       "      <td>4.322750</td>\n",
       "      <td>3.724750</td>\n",
       "      <td>1.879020</td>\n",
       "      <td>1.767052</td>\n",
       "      <td>0.265250</td>\n",
       "    </tr>\n",
       "    <tr>\n",
       "      <th>std</th>\n",
       "      <td>0.499957</td>\n",
       "      <td>0.361711</td>\n",
       "      <td>0.499887</td>\n",
       "      <td>0.461932</td>\n",
       "      <td>0.295313</td>\n",
       "      <td>4.549706</td>\n",
       "      <td>0.492301</td>\n",
       "      <td>3.258367</td>\n",
       "      <td>96.355602</td>\n",
       "      <td>4.191297</td>\n",
       "      <td>3.749267</td>\n",
       "      <td>0.972245</td>\n",
       "      <td>1.052906</td>\n",
       "      <td>0.441521</td>\n",
       "    </tr>\n",
       "    <tr>\n",
       "      <th>min</th>\n",
       "      <td>0.000000</td>\n",
       "      <td>0.000000</td>\n",
       "      <td>0.000000</td>\n",
       "      <td>0.000000</td>\n",
       "      <td>0.000000</td>\n",
       "      <td>1.000000</td>\n",
       "      <td>0.000000</td>\n",
       "      <td>18.000000</td>\n",
       "      <td>0.148205</td>\n",
       "      <td>1.000000</td>\n",
       "      <td>0.000000</td>\n",
       "      <td>0.000000</td>\n",
       "      <td>0.000000</td>\n",
       "      <td>0.000000</td>\n",
       "    </tr>\n",
       "    <tr>\n",
       "      <th>25%</th>\n",
       "      <td>0.000000</td>\n",
       "      <td>1.000000</td>\n",
       "      <td>0.000000</td>\n",
       "      <td>0.000000</td>\n",
       "      <td>1.000000</td>\n",
       "      <td>1.000000</td>\n",
       "      <td>0.000000</td>\n",
       "      <td>27.000000</td>\n",
       "      <td>68.868830</td>\n",
       "      <td>1.000000</td>\n",
       "      <td>1.000000</td>\n",
       "      <td>1.180875</td>\n",
       "      <td>0.963003</td>\n",
       "      <td>0.000000</td>\n",
       "    </tr>\n",
       "    <tr>\n",
       "      <th>50%</th>\n",
       "      <td>1.000000</td>\n",
       "      <td>1.000000</td>\n",
       "      <td>0.000000</td>\n",
       "      <td>0.000000</td>\n",
       "      <td>1.000000</td>\n",
       "      <td>1.000000</td>\n",
       "      <td>0.000000</td>\n",
       "      <td>29.000000</td>\n",
       "      <td>136.220159</td>\n",
       "      <td>1.000000</td>\n",
       "      <td>3.000000</td>\n",
       "      <td>1.832768</td>\n",
       "      <td>1.719574</td>\n",
       "      <td>0.000000</td>\n",
       "    </tr>\n",
       "    <tr>\n",
       "      <th>75%</th>\n",
       "      <td>1.000000</td>\n",
       "      <td>1.000000</td>\n",
       "      <td>1.000000</td>\n",
       "      <td>1.000000</td>\n",
       "      <td>1.000000</td>\n",
       "      <td>6.000000</td>\n",
       "      <td>1.000000</td>\n",
       "      <td>31.000000</td>\n",
       "      <td>210.949625</td>\n",
       "      <td>6.000000</td>\n",
       "      <td>5.000000</td>\n",
       "      <td>2.536078</td>\n",
       "      <td>2.510336</td>\n",
       "      <td>1.000000</td>\n",
       "    </tr>\n",
       "    <tr>\n",
       "      <th>max</th>\n",
       "      <td>1.000000</td>\n",
       "      <td>1.000000</td>\n",
       "      <td>1.000000</td>\n",
       "      <td>1.000000</td>\n",
       "      <td>1.000000</td>\n",
       "      <td>12.000000</td>\n",
       "      <td>1.000000</td>\n",
       "      <td>41.000000</td>\n",
       "      <td>552.590740</td>\n",
       "      <td>12.000000</td>\n",
       "      <td>31.000000</td>\n",
       "      <td>6.023668</td>\n",
       "      <td>6.146783</td>\n",
       "      <td>1.000000</td>\n",
       "    </tr>\n",
       "  </tbody>\n",
       "</table>\n",
       "</div>"
      ],
      "text/plain": [
       "            gender  Near_Location      Partner  Promo_friends        Phone  \\\n",
       "count  4000.000000    4000.000000  4000.000000    4000.000000  4000.000000   \n",
       "mean      0.510250       0.845250     0.486750       0.308500     0.903500   \n",
       "std       0.499957       0.361711     0.499887       0.461932     0.295313   \n",
       "min       0.000000       0.000000     0.000000       0.000000     0.000000   \n",
       "25%       0.000000       1.000000     0.000000       0.000000     1.000000   \n",
       "50%       1.000000       1.000000     0.000000       0.000000     1.000000   \n",
       "75%       1.000000       1.000000     1.000000       1.000000     1.000000   \n",
       "max       1.000000       1.000000     1.000000       1.000000     1.000000   \n",
       "\n",
       "       Contract_period  Group_visits          Age  \\\n",
       "count      4000.000000   4000.000000  4000.000000   \n",
       "mean          4.681250      0.412250    29.184250   \n",
       "std           4.549706      0.492301     3.258367   \n",
       "min           1.000000      0.000000    18.000000   \n",
       "25%           1.000000      0.000000    27.000000   \n",
       "50%           1.000000      0.000000    29.000000   \n",
       "75%           6.000000      1.000000    31.000000   \n",
       "max          12.000000      1.000000    41.000000   \n",
       "\n",
       "       Avg_additional_charges_total  Month_to_end_contract     Lifetime  \\\n",
       "count                   4000.000000            4000.000000  4000.000000   \n",
       "mean                     146.943728               4.322750     3.724750   \n",
       "std                       96.355602               4.191297     3.749267   \n",
       "min                        0.148205               1.000000     0.000000   \n",
       "25%                       68.868830               1.000000     1.000000   \n",
       "50%                      136.220159               1.000000     3.000000   \n",
       "75%                      210.949625               6.000000     5.000000   \n",
       "max                      552.590740              12.000000    31.000000   \n",
       "\n",
       "       Avg_class_frequency_total  Avg_class_frequency_current_month  \\\n",
       "count                4000.000000                        4000.000000   \n",
       "mean                    1.879020                           1.767052   \n",
       "std                     0.972245                           1.052906   \n",
       "min                     0.000000                           0.000000   \n",
       "25%                     1.180875                           0.963003   \n",
       "50%                     1.832768                           1.719574   \n",
       "75%                     2.536078                           2.510336   \n",
       "max                     6.023668                           6.146783   \n",
       "\n",
       "             Churn  \n",
       "count  4000.000000  \n",
       "mean      0.265250  \n",
       "std       0.441521  \n",
       "min       0.000000  \n",
       "25%       0.000000  \n",
       "50%       0.000000  \n",
       "75%       1.000000  \n",
       "max       1.000000  "
      ]
     },
     "execution_count": 3,
     "metadata": {},
     "output_type": "execute_result"
    }
   ],
   "source": [
    "gym.describe()"
   ]
  },
  {
   "cell_type": "markdown",
   "metadata": {},
   "source": [
    "- los datos están relativamente concentrados alrededor de la media, lo que sugiere que no ha muchos valores atípicos.\n",
    "- La mayoría de los valores están cerca de la media, lo que indica que los datos son relativamente homogéneos.\n",
    "- No hay valores extremadamente altos o bajos, lo que sugiere que los datos están dentro de un rango razonable.\n",
    "(Esto en cuanto a la mayoría de las columnas numéricas.)"
   ]
  },
  {
   "cell_type": "markdown",
   "metadata": {},
   "source": [
    "- Por otro lado hay un columna con unos datos un tanto muy distantes entre sí, en este orden de ideas los vamos analizando a través del avance del proyecto. "
   ]
  },
  {
   "cell_type": "code",
   "execution_count": 4,
   "metadata": {},
   "outputs": [
    {
     "name": "stdout",
     "output_type": "stream",
     "text": [
      "<class 'pandas.core.frame.DataFrame'>\n",
      "RangeIndex: 4000 entries, 0 to 3999\n",
      "Data columns (total 14 columns):\n",
      " #   Column                             Non-Null Count  Dtype  \n",
      "---  ------                             --------------  -----  \n",
      " 0   gender                             4000 non-null   int64  \n",
      " 1   Near_Location                      4000 non-null   int64  \n",
      " 2   Partner                            4000 non-null   int64  \n",
      " 3   Promo_friends                      4000 non-null   int64  \n",
      " 4   Phone                              4000 non-null   int64  \n",
      " 5   Contract_period                    4000 non-null   int64  \n",
      " 6   Group_visits                       4000 non-null   int64  \n",
      " 7   Age                                4000 non-null   int64  \n",
      " 8   Avg_additional_charges_total       4000 non-null   float64\n",
      " 9   Month_to_end_contract              4000 non-null   float64\n",
      " 10  Lifetime                           4000 non-null   int64  \n",
      " 11  Avg_class_frequency_total          4000 non-null   float64\n",
      " 12  Avg_class_frequency_current_month  4000 non-null   float64\n",
      " 13  Churn                              4000 non-null   int64  \n",
      "dtypes: float64(4), int64(10)\n",
      "memory usage: 437.6 KB\n"
     ]
    }
   ],
   "source": [
    "gym.info()"
   ]
  },
  {
   "cell_type": "code",
   "execution_count": 5,
   "metadata": {},
   "outputs": [
    {
     "data": {
      "text/html": [
       "<div>\n",
       "<style scoped>\n",
       "    .dataframe tbody tr th:only-of-type {\n",
       "        vertical-align: middle;\n",
       "    }\n",
       "\n",
       "    .dataframe tbody tr th {\n",
       "        vertical-align: top;\n",
       "    }\n",
       "\n",
       "    .dataframe thead th {\n",
       "        text-align: right;\n",
       "    }\n",
       "</style>\n",
       "<table border=\"1\" class=\"dataframe\">\n",
       "  <thead>\n",
       "    <tr style=\"text-align: right;\">\n",
       "      <th></th>\n",
       "      <th>gender</th>\n",
       "      <th>Near_Location</th>\n",
       "      <th>Partner</th>\n",
       "      <th>Promo_friends</th>\n",
       "      <th>Phone</th>\n",
       "      <th>Contract_period</th>\n",
       "      <th>Group_visits</th>\n",
       "      <th>Age</th>\n",
       "      <th>Avg_additional_charges_total</th>\n",
       "      <th>Month_to_end_contract</th>\n",
       "      <th>Lifetime</th>\n",
       "      <th>Avg_class_frequency_total</th>\n",
       "      <th>Avg_class_frequency_current_month</th>\n",
       "      <th>Churn</th>\n",
       "    </tr>\n",
       "  </thead>\n",
       "  <tbody>\n",
       "    <tr>\n",
       "      <th>3995</th>\n",
       "      <td>1</td>\n",
       "      <td>1</td>\n",
       "      <td>1</td>\n",
       "      <td>0</td>\n",
       "      <td>1</td>\n",
       "      <td>12</td>\n",
       "      <td>0</td>\n",
       "      <td>33</td>\n",
       "      <td>2.406023</td>\n",
       "      <td>12.0</td>\n",
       "      <td>8</td>\n",
       "      <td>2.284497</td>\n",
       "      <td>2.349070</td>\n",
       "      <td>0</td>\n",
       "    </tr>\n",
       "    <tr>\n",
       "      <th>3996</th>\n",
       "      <td>0</td>\n",
       "      <td>1</td>\n",
       "      <td>0</td>\n",
       "      <td>0</td>\n",
       "      <td>1</td>\n",
       "      <td>1</td>\n",
       "      <td>1</td>\n",
       "      <td>29</td>\n",
       "      <td>68.883764</td>\n",
       "      <td>1.0</td>\n",
       "      <td>1</td>\n",
       "      <td>1.277168</td>\n",
       "      <td>0.292859</td>\n",
       "      <td>1</td>\n",
       "    </tr>\n",
       "    <tr>\n",
       "      <th>3997</th>\n",
       "      <td>1</td>\n",
       "      <td>1</td>\n",
       "      <td>1</td>\n",
       "      <td>1</td>\n",
       "      <td>1</td>\n",
       "      <td>12</td>\n",
       "      <td>0</td>\n",
       "      <td>28</td>\n",
       "      <td>78.250542</td>\n",
       "      <td>11.0</td>\n",
       "      <td>2</td>\n",
       "      <td>2.786146</td>\n",
       "      <td>2.831439</td>\n",
       "      <td>0</td>\n",
       "    </tr>\n",
       "    <tr>\n",
       "      <th>3998</th>\n",
       "      <td>0</td>\n",
       "      <td>1</td>\n",
       "      <td>1</td>\n",
       "      <td>1</td>\n",
       "      <td>1</td>\n",
       "      <td>6</td>\n",
       "      <td>0</td>\n",
       "      <td>32</td>\n",
       "      <td>61.912657</td>\n",
       "      <td>5.0</td>\n",
       "      <td>3</td>\n",
       "      <td>1.630108</td>\n",
       "      <td>1.596237</td>\n",
       "      <td>0</td>\n",
       "    </tr>\n",
       "    <tr>\n",
       "      <th>3999</th>\n",
       "      <td>1</td>\n",
       "      <td>0</td>\n",
       "      <td>1</td>\n",
       "      <td>0</td>\n",
       "      <td>0</td>\n",
       "      <td>12</td>\n",
       "      <td>1</td>\n",
       "      <td>30</td>\n",
       "      <td>178.861814</td>\n",
       "      <td>12.0</td>\n",
       "      <td>1</td>\n",
       "      <td>1.101832</td>\n",
       "      <td>1.035270</td>\n",
       "      <td>0</td>\n",
       "    </tr>\n",
       "  </tbody>\n",
       "</table>\n",
       "</div>"
      ],
      "text/plain": [
       "      gender  Near_Location  Partner  Promo_friends  Phone  Contract_period  \\\n",
       "3995       1              1        1              0      1               12   \n",
       "3996       0              1        0              0      1                1   \n",
       "3997       1              1        1              1      1               12   \n",
       "3998       0              1        1              1      1                6   \n",
       "3999       1              0        1              0      0               12   \n",
       "\n",
       "      Group_visits  Age  Avg_additional_charges_total  Month_to_end_contract  \\\n",
       "3995             0   33                      2.406023                   12.0   \n",
       "3996             1   29                     68.883764                    1.0   \n",
       "3997             0   28                     78.250542                   11.0   \n",
       "3998             0   32                     61.912657                    5.0   \n",
       "3999             1   30                    178.861814                   12.0   \n",
       "\n",
       "      Lifetime  Avg_class_frequency_total  Avg_class_frequency_current_month  \\\n",
       "3995         8                   2.284497                           2.349070   \n",
       "3996         1                   1.277168                           0.292859   \n",
       "3997         2                   2.786146                           2.831439   \n",
       "3998         3                   1.630108                           1.596237   \n",
       "3999         1                   1.101832                           1.035270   \n",
       "\n",
       "      Churn  \n",
       "3995      0  \n",
       "3996      1  \n",
       "3997      0  \n",
       "3998      0  \n",
       "3999      0  "
      ]
     },
     "execution_count": 5,
     "metadata": {},
     "output_type": "execute_result"
    }
   ],
   "source": [
    "gym.tail()"
   ]
  },
  {
   "cell_type": "code",
   "execution_count": 6,
   "metadata": {},
   "outputs": [],
   "source": [
    "gym.columns  = gym.columns.str.lower()"
   ]
  },
  {
   "cell_type": "markdown",
   "metadata": {},
   "source": [
    "- En este paso realizamos la converción de los nombres de las columnas a mínusculas para trabajar de una manera más comoda."
   ]
  },
  {
   "cell_type": "code",
   "execution_count": 7,
   "metadata": {},
   "outputs": [
    {
     "data": {
      "text/plain": [
       "gender                               0\n",
       "near_location                        0\n",
       "partner                              0\n",
       "promo_friends                        0\n",
       "phone                                0\n",
       "contract_period                      0\n",
       "group_visits                         0\n",
       "age                                  0\n",
       "avg_additional_charges_total         0\n",
       "month_to_end_contract                0\n",
       "lifetime                             0\n",
       "avg_class_frequency_total            0\n",
       "avg_class_frequency_current_month    0\n",
       "churn                                0\n",
       "dtype: int64"
      ]
     },
     "execution_count": 7,
     "metadata": {},
     "output_type": "execute_result"
    }
   ],
   "source": [
    "gym.isnull().sum()"
   ]
  },
  {
   "cell_type": "code",
   "execution_count": 8,
   "metadata": {},
   "outputs": [
    {
     "data": {
      "text/plain": [
       "0"
      ]
     },
     "execution_count": 8,
     "metadata": {},
     "output_type": "execute_result"
    }
   ],
   "source": [
    "gym.duplicated().sum()"
   ]
  },
  {
   "cell_type": "markdown",
   "metadata": {},
   "source": [
    "- Bueno hasta aquí los datos están limpios para iniciar a más profundidad, "
   ]
  },
  {
   "cell_type": "markdown",
   "metadata": {},
   "source": [
    "# Llevar a cabo el análisis exploratorio de datos (EDA)"
   ]
  },
  {
   "cell_type": "markdown",
   "metadata": {},
   "source": [
    "- Observa los valores medios de las características en dos grupos: para las personas que se fueron (cancelación) y para las que se quedaron (utiliza el método groupby())."
   ]
  },
  {
   "cell_type": "code",
   "execution_count": 9,
   "metadata": {},
   "outputs": [],
   "source": [
    "gym_group = gym.groupby('churn')"
   ]
  },
  {
   "cell_type": "code",
   "execution_count": 10,
   "metadata": {},
   "outputs": [
    {
     "name": "stdout",
     "output_type": "stream",
     "text": [
      "         gender  near_location   partner  promo_friends     phone  \\\n",
      "churn                                                               \n",
      "0      0.510037       0.873086  0.534195       0.353522  0.903709   \n",
      "1      0.510839       0.768143  0.355325       0.183789  0.902922   \n",
      "\n",
      "       contract_period  group_visits        age  avg_additional_charges_total  \\\n",
      "churn                                                                           \n",
      "0             5.747193      0.464103  29.976523                    158.445715   \n",
      "1             1.728558      0.268615  26.989632                    115.082899   \n",
      "\n",
      "       month_to_end_contract  lifetime  avg_class_frequency_total  \\\n",
      "churn                                                               \n",
      "0                   5.283089  4.711807                   2.024876   \n",
      "1                   1.662582  0.990575                   1.474995   \n",
      "\n",
      "       avg_class_frequency_current_month  \n",
      "churn                                     \n",
      "0                               2.027882  \n",
      "1                               1.044546  \n"
     ]
    }
   ],
   "source": [
    "gym_mean = gym_group.mean()\n",
    "print(gym_mean)"
   ]
  },
  {
   "cell_type": "markdown",
   "metadata": {},
   "source": [
    "<div class=\"alert alert-block alert-success\">\n",
    "<b>Comentario del revisor (1ra Iteracion)</b> <a class=“tocSkip”></a>\n",
    "\n",
    "Bien hecha la exploración inicial de tus datos, siempre hay que entender con que se está trabajando\n",
    "</div>"
   ]
  },
  {
   "cell_type": "markdown",
   "metadata": {},
   "source": [
    "# Traza histogramas de barras y distribuciones de características para aquellas personas que se fueron (cancelación) y para las que se quedaron."
   ]
  },
  {
   "cell_type": "code",
   "execution_count": 11,
   "metadata": {},
   "outputs": [
    {
     "data": {
      "image/png": "[encoded data removed]",
      "text/plain": [
       "<Figure size 1200x600 with 1 Axes>"
      ]
     },
     "metadata": {},
     "output_type": "display_data"
    }
   ],
   "source": [
    "plt.figure(figsize=(12,6))\n",
    "\n",
    "sns.histplot(gym[gym['churn']==0]['age'], bins=10, color='green', alpha=0.5, label='permanecierón')\n",
    "sns.histplot(gym[gym['churn']==1]['age'], bins=10, color='red', alpha=0.5, label='cancelarón')\n",
    "plt.title('Comparación De La Distribución De Edad')\n",
    "plt.xlabel('Edad')\n",
    "plt.ylabel('Frecuencia')\n",
    "plt.legend()\n",
    "plt.show()"
   ]
  },
  {
   "cell_type": "markdown",
   "metadata": {},
   "source": [
    "- Wooow evindentemente en comparaión con el grupo que permanecio la diferencia es un tanto no tan notoria, y tenemos una muy buena estadística de los que permanecieron, justo sobre la misma edad del equipo contrario (25-30) "
   ]
  },
  {
   "cell_type": "markdown",
   "metadata": {},
   "source": [
    "<div class=\"alert alert-block alert-success\">\n",
    "<b>Comentario del revisor (1ra Iteracion)</b> <a class=“tocSkip”></a>\n",
    "\n",
    "Muy bien hecho! Estas gráficas son muy claras para mostrar las diferencias entre cada variable de tu dataset, además el redactar conclusiones tan claras de las mismas ayuda mucho a seguir el proceso de análisis \n",
    "</div>\n"
   ]
  },
  {
   "cell_type": "markdown",
   "metadata": {},
   "source": [
    "# Crea una matriz de correlación y muéstrala.\n"
   ]
  },
  {
   "cell_type": "code",
   "execution_count": 12,
   "metadata": {},
   "outputs": [
    {
     "name": "stdout",
     "output_type": "stream",
     "text": [
      "                                     gender  near_location   partner  \\\n",
      "gender                             1.000000       0.006699 -0.010463   \n",
      "near_location                      0.006699       1.000000 -0.005119   \n",
      "partner                           -0.010463      -0.005119  1.000000   \n",
      "promo_friends                     -0.005033       0.210964  0.451960   \n",
      "phone                             -0.008542      -0.015763  0.009970   \n",
      "contract_period                    0.000502       0.150233  0.306166   \n",
      "group_visits                       0.017879       0.154728  0.022710   \n",
      "age                                0.013807       0.058358  0.047480   \n",
      "avg_additional_charges_total      -0.009334       0.040761  0.022941   \n",
      "month_to_end_contract             -0.001281       0.143961  0.294632   \n",
      "lifetime                           0.013579       0.070921  0.061229   \n",
      "avg_class_frequency_total          0.014620       0.043127  0.024938   \n",
      "avg_class_frequency_current_month  0.009156       0.062664  0.045561   \n",
      "churn                              0.000708      -0.128098 -0.157986   \n",
      "\n",
      "                                   promo_friends     phone  contract_period  \\\n",
      "gender                                 -0.005033 -0.008542         0.000502   \n",
      "near_location                           0.210964 -0.015763         0.150233   \n",
      "partner                                 0.451960  0.009970         0.306166   \n",
      "promo_friends                           1.000000  0.001982         0.244552   \n",
      "phone                                   0.001982  1.000000        -0.006893   \n",
      "contract_period                         0.244552 -0.006893         1.000000   \n",
      "group_visits                            0.120170 -0.010099         0.169991   \n",
      "age                                     0.050113 -0.011403         0.138249   \n",
      "avg_additional_charges_total            0.036898  0.009279         0.111445   \n",
      "month_to_end_contract                   0.239553 -0.011196         0.973064   \n",
      "lifetime                                0.072721 -0.018801         0.170725   \n",
      "avg_class_frequency_total               0.028063  0.008340         0.096211   \n",
      "avg_class_frequency_current_month       0.053768  0.013375         0.159407   \n",
      "churn                                  -0.162233 -0.001177        -0.389984   \n",
      "\n",
      "                                   group_visits       age  \\\n",
      "gender                                 0.017879  0.013807   \n",
      "near_location                          0.154728  0.058358   \n",
      "partner                                0.022710  0.047480   \n",
      "promo_friends                          0.120170  0.050113   \n",
      "phone                                 -0.010099 -0.011403   \n",
      "contract_period                        0.169991  0.138249   \n",
      "group_visits                           1.000000  0.080934   \n",
      "age                                    0.080934  1.000000   \n",
      "avg_additional_charges_total           0.032079  0.080240   \n",
      "month_to_end_contract                  0.163703  0.134511   \n",
      "lifetime                               0.075853  0.164693   \n",
      "avg_class_frequency_total              0.056695  0.119953   \n",
      "avg_class_frequency_current_month      0.075923  0.183095   \n",
      "churn                                 -0.175325 -0.404735   \n",
      "\n",
      "                                   avg_additional_charges_total  \\\n",
      "gender                                                -0.009334   \n",
      "near_location                                          0.040761   \n",
      "partner                                                0.022941   \n",
      "promo_friends                                          0.036898   \n",
      "phone                                                  0.009279   \n",
      "contract_period                                        0.111445   \n",
      "group_visits                                           0.032079   \n",
      "age                                                    0.080240   \n",
      "avg_additional_charges_total                           1.000000   \n",
      "month_to_end_contract                                  0.113958   \n",
      "lifetime                                               0.079028   \n",
      "avg_class_frequency_total                              0.044426   \n",
      "avg_class_frequency_current_month                      0.079570   \n",
      "churn                                                 -0.198697   \n",
      "\n",
      "                                   month_to_end_contract  lifetime  \\\n",
      "gender                                         -0.001281  0.013579   \n",
      "near_location                                   0.143961  0.070921   \n",
      "partner                                         0.294632  0.061229   \n",
      "promo_friends                                   0.239553  0.072721   \n",
      "phone                                          -0.011196 -0.018801   \n",
      "contract_period                                 0.973064  0.170725   \n",
      "group_visits                                    0.163703  0.075853   \n",
      "age                                             0.134511  0.164693   \n",
      "avg_additional_charges_total                    0.113958  0.079028   \n",
      "month_to_end_contract                           1.000000  0.161078   \n",
      "lifetime                                        0.161078  1.000000   \n",
      "avg_class_frequency_total                       0.085387  0.112338   \n",
      "avg_class_frequency_current_month               0.147605  0.181975   \n",
      "churn                                          -0.381393 -0.438220   \n",
      "\n",
      "                                   avg_class_frequency_total  \\\n",
      "gender                                              0.014620   \n",
      "near_location                                       0.043127   \n",
      "partner                                             0.024938   \n",
      "promo_friends                                       0.028063   \n",
      "phone                                               0.008340   \n",
      "contract_period                                     0.096211   \n",
      "group_visits                                        0.056695   \n",
      "age                                                 0.119953   \n",
      "avg_additional_charges_total                        0.044426   \n",
      "month_to_end_contract                               0.085387   \n",
      "lifetime                                            0.112338   \n",
      "avg_class_frequency_total                           1.000000   \n",
      "avg_class_frequency_current_month                   0.952739   \n",
      "churn                                              -0.249715   \n",
      "\n",
      "                                   avg_class_frequency_current_month     churn  \n",
      "gender                                                      0.009156  0.000708  \n",
      "near_location                                               0.062664 -0.128098  \n",
      "partner                                                     0.045561 -0.157986  \n",
      "promo_friends                                               0.053768 -0.162233  \n",
      "phone                                                       0.013375 -0.001177  \n",
      "contract_period                                             0.159407 -0.389984  \n",
      "group_visits                                                0.075923 -0.175325  \n",
      "age                                                         0.183095 -0.404735  \n",
      "avg_additional_charges_total                                0.079570 -0.198697  \n",
      "month_to_end_contract                                       0.147605 -0.381393  \n",
      "lifetime                                                    0.181975 -0.438220  \n",
      "avg_class_frequency_total                                   0.952739 -0.249715  \n",
      "avg_class_frequency_current_month                           1.000000 -0.412348  \n",
      "churn                                                      -0.412348  1.000000  \n"
     ]
    }
   ],
   "source": [
    "correlacion=gym.corr()\n",
    "print(correlacion)"
   ]
  },
  {
   "cell_type": "code",
   "execution_count": 13,
   "metadata": {},
   "outputs": [
    {
     "data": {
      "image/png": "[encoded data removed]",
      "text/plain": [
       "<Figure size 1000x800 with 2 Axes>"
      ]
     },
     "metadata": {},
     "output_type": "display_data"
    }
   ],
   "source": [
    "plt.figure(figsize=(10,8))\n",
    "sns.heatmap(correlacion, annot=True, cmap='coolwarm')\n",
    "plt.title('Matriz de Correlación')\n",
    "plt.show()"
   ]
  },
  {
   "cell_type": "markdown",
   "metadata": {},
   "source": [
    "- en nuestro mapa de color nos muestra que hay una fuerte correlación entre las variables y a su vez con otras en diferentes grados."
   ]
  },
  {
   "cell_type": "markdown",
   "metadata": {},
   "source": [
    "<div class=\"alert alert-block alert-success\">\n",
    "<b>Comentario del revisor (1ra Iteracion)</b> <a class=“tocSkip”></a>\n",
    "\n",
    "Muy bien mostrada la matriz de correlación! Solo ten en cuenta que no siempre correlación significa causalidad, puede que en algunos casos tengas variables altamente correlacionadas pero no necesariamente son causa una de la otra"
   ]
  },
  {
   "cell_type": "markdown",
   "metadata": {},
   "source": [
    "# Paso 3. Construir un modelo para predecir la cancelación de usuarios"
   ]
  },
  {
   "cell_type": "markdown",
   "metadata": {},
   "source": [
    "# Crea un modelo de clasificación binaria para clientes donde la característica objetivo es la marcha del usuario o la usuaria el mes siguiente.\n",
    "\n",
    "# Divide los datos en conjuntos de entrenamiento y validación utilizando la función train_test_split()."
   ]
  },
  {
   "cell_type": "code",
   "execution_count": 14,
   "metadata": {},
   "outputs": [
    {
     "name": "stdout",
     "output_type": "stream",
     "text": [
      "Accuracy:\n",
      "0.91\n",
      "Inforne de Clasificación:\n",
      "              precision    recall  f1-score   support\n",
      "\n",
      "           0       0.93      0.95      0.94       598\n",
      "           1       0.85      0.78      0.81       202\n",
      "\n",
      "    accuracy                           0.91       800\n",
      "   macro avg       0.89      0.87      0.88       800\n",
      "weighted avg       0.91      0.91      0.91       800\n",
      "\n"
     ]
    }
   ],
   "source": [
    "x=gym.drop(['churn'], axis=1)\n",
    "y=gym['churn']\n",
    "x_train, x_test, y_train, y_test = train_test_split(x,y,test_size=0.2, random_state=42)\n",
    "\n",
    "#creamos modelo de clasificación binaria utilizando Rnadom Forest\n",
    "\n",
    "rf = RandomForestClassifier(n_estimators=100, random_state=42)\n",
    "\n",
    "rf.fit(x_train, y_train)\n",
    "\n",
    "y_pred=rf.predict(x_test)\n",
    "\n",
    "print(\"Accuracy:\")\n",
    "print(accuracy_score(y_test, y_pred))\n",
    "print(\"Inforne de Clasificación:\")\n",
    "print(classification_report(y_test, y_pred))\n",
    "      "
   ]
  },
  {
   "cell_type": "markdown",
   "metadata": {},
   "source": [
    "- En particular, los resultados sugieren que el modelo es muy bueno en identificar los casos en los que no se cancela el usuario(precisión del 93% y recuerdo (recall) del 95%), y también es bastante bueno en identificar los casos en los que se cancela el usuario(precisión del 85% y recuerdo del 78%) \n",
    "\n",
    "\n",
    "- El modelo puedo ser utilizado para identificar clientes que están en riesgo de cancelar su membresía, lo que le permitira a gym tomar medidas para retenerlos.\n",
    "\n",
    "- También nos ayuda a identificar áreas en las que el gimnasio puede mejorar la experiencia del cliente, lo que podría ayudar a reducir la cancelación de la membresía.\n",
    "\n",
    "- Desarrollar estrategias de retención de clientes, como ofertas especiales o progrmas de lealtad, que puedan ayudar a reducir la cancelación de la membresía."
   ]
  },
  {
   "cell_type": "markdown",
   "metadata": {},
   "source": [
    "# Entrena el modelo en el set de entrenamiento con dos métodos:\n",
    "# regresión logística;\n",
    "# bosque aleatorio."
   ]
  },
  {
   "cell_type": "code",
   "execution_count": 15,
   "metadata": {},
   "outputs": [
    {
     "name": "stderr",
     "output_type": "stream",
     "text": [
      "/opt/conda/envs/python3/lib/python3.9/site-packages/sklearn/linear_model/_logistic.py:763: ConvergenceWarning: lbfgs failed to converge (status=1):\n",
      "STOP: TOTAL NO. of ITERATIONS REACHED LIMIT.\n",
      "\n",
      "Increase the number of iterations (max_iter) or scale the data as shown in:\n",
      "    https://scikit-learn.org/stable/modules/preprocessing.html\n",
      "Please also refer to the documentation for alternative solver options:\n",
      "    https://scikit-learn.org/stable/modules/linear_model.html#logistic-regression\n",
      "  n_iter_i = _check_optimize_result(\n"
     ]
    },
    {
     "name": "stdout",
     "output_type": "stream",
     "text": [
      "\n",
      "precisión: 0.91\n",
      "Informe de Clasificación:\n",
      "              precision    recall  f1-score   support\n",
      "\n",
      "           0       0.92      0.96      0.94       598\n",
      "           1       0.86      0.77      0.81       202\n",
      "\n",
      "    accuracy                           0.91       800\n",
      "   macro avg       0.89      0.86      0.88       800\n",
      "weighted avg       0.91      0.91      0.91       800\n",
      "\n",
      "Matriz de confusión\n",
      "[[573  25]\n",
      " [ 47 155]]\n",
      "\n",
      "presición: 0.91\n",
      "Informe de Clasificación:\n",
      "              precision    recall  f1-score   support\n",
      "\n",
      "           0       0.93      0.95      0.94       598\n",
      "           1       0.85      0.78      0.81       202\n",
      "\n",
      "    accuracy                           0.91       800\n",
      "   macro avg       0.89      0.87      0.88       800\n",
      "weighted avg       0.91      0.91      0.91       800\n",
      "\n",
      "Matriz de confusión:\n",
      "[[570  28]\n",
      " [ 44 158]]\n"
     ]
    }
   ],
   "source": [
    "# regresió logística\n",
    "\n",
    "logreg = LogisticRegression()\n",
    "logreg.fit(x_train, y_train)\n",
    "\n",
    "\n",
    "# Bosque Aleatorio\n",
    "rf = RandomForestClassifier(n_estimators = 100, random_state =42)\n",
    "rf.fit(x_train, y_train)\n",
    "\n",
    "\n",
    "# regresión logística\n",
    "y_pred_logreg = logreg.predict(x_test)\n",
    "print()\n",
    "print(\"precisión:\", accuracy_score(y_test, y_pred_logreg))\n",
    "print(\"Informe de Clasificación:\")\n",
    "print(classification_report(y_test, y_pred_logreg))\n",
    "print(\"Matriz de confusión\")\n",
    "print(confusion_matrix(y_test, y_pred_logreg))\n",
    "\n",
    "# Bosque aleatorio\n",
    "\n",
    "y_pred_rf = rf.predict(x_test)\n",
    "print()\n",
    "print(\"presición:\", accuracy_score(y_test, y_pred_rf))\n",
    "print(\"Informe de Clasificación:\")\n",
    "print(classification_report(y_test, y_pred_rf))\n",
    "print(\"Matriz de confusión:\")\n",
    "print(confusion_matrix(y_test, y_pred_rf))"
   ]
  },
  {
   "cell_type": "markdown",
   "metadata": {},
   "source": [
    "- bueno podemos ver que la precisión fue un tanto muy aceptable para ambos métodos; en resumen, aunque ambos modelos son muy similares, creo que el bosque aleatorio es ligeramente mejor debido a su mayor precisión y recorde en la clase 0. "
   ]
  },
  {
   "cell_type": "markdown",
   "metadata": {},
   "source": [
    "<div class=\"alert alert-block alert-success\">\n",
    "<b>Comentario del revisor (1ra Iteracion)</b> <a class=“tocSkip”></a>\n",
    "\n",
    "Muy buen trabajo! Obtuviste resultados muy buenos en el entrenamiento de tus modelos y realizaste el análisis adecuado a partir de los mismos\n",
    "    \n",
    "</div>"
   ]
  },
  {
   "cell_type": "markdown",
   "metadata": {},
   "source": [
    "# Paso 4. Crear clústeres de usuarios/as\n",
    "# Deja de lado la columna con datos sobre la cancelación e identifica los clústeres de objetos (usuarios/as):\n",
    "\n",
    "# Estandariza los datos.\n",
    "\n",
    "Utiliza la función linkage() para crear una matriz de distancias basada en la matriz de características estandarizada y trazar un dendrograma. Nota: ¡renderizar el dendrograma puede llevar tiempo! Utiliza el gráfico resultante para estimar el número de clústeres que puedes destacar."
   ]
  },
  {
   "cell_type": "code",
   "execution_count": 16,
   "metadata": {},
   "outputs": [
    {
     "data": {
      "image/png": "[encoded data removed]",
      "text/plain": [
       "<Figure size 1000x800 with 1 Axes>"
      ]
     },
     "metadata": {},
     "output_type": "display_data"
    }
   ],
   "source": [
    "# Dejar de lado la columna con datos sobre la cancelación.\n",
    "\n",
    "users_gym = gym.drop('churn', axis=1)\n",
    "\n",
    "\n",
    "\n",
    "# estandarizar los datos \n",
    "scaler = StandardScaler()\n",
    "users_gym_estandarizado = scaler.fit_transform(users_gym)\n",
    "\n",
    "\n",
    "#crear una matriz de distancias\n",
    "\n",
    "distancia = linkage(users_gym_estandarizado, method='ward') \n",
    "\n",
    "\n",
    "# Trazar un dendrograma\n",
    "plt.figure(figsize=(10,8))\n",
    "dendrogram(distancia, truncate_mode = \"lastp\", p=3)\n",
    "plt.title(\"Dendrograma de clusterización\")\n",
    "plt.show()"
   ]
  },
  {
   "cell_type": "markdown",
   "metadata": {},
   "source": [
    "- los dos clusters en el dendrograma pueden estar relacionados con patrones en las variables demográficas o de comportamiento de los usuarios. "
   ]
  },
  {
   "cell_type": "markdown",
   "metadata": {},
   "source": [
    "# Entrena el modelo de clustering con el algortimo K-means y predice los clústeres de clientes. (Deja que el número de clústeres sea n=5 para que sea más sencillo comparar los resultados con los del resto del estudiantado. Sin embargo, en la vida real, nadie te dará tales pistas, así que tendrás que decidir basándote en el gráfico del paso anterior.)"
   ]
  },
  {
   "cell_type": "code",
   "execution_count": 17,
   "metadata": {},
   "outputs": [
    {
     "name": "stdout",
     "output_type": "stream",
     "text": [
      "[2 1 1 ... 1 2 3]\n"
     ]
    }
   ],
   "source": [
    "# users_gym\n",
    "\n",
    "# creamos un objeto Kmeans con N=5\n",
    "kmeans=KMeans(n_clusters=5)\n",
    "\n",
    "#entrenamos el modelo\n",
    "kmeans.fit(users_gym)\n",
    "\n",
    "#predecimos los clusters para cada cliente \n",
    "clusters_predichos=kmeans.predict(users_gym)\n",
    "\n",
    "#impresión de resultados\n",
    "\n",
    "print(clusters_predichos)\n"
   ]
  },
  {
   "cell_type": "markdown",
   "metadata": {},
   "source": [
    "- En conclusión los clientes se pueden agrupar en diferentes clusters según sus características.\n",
    "- la mayoría de clientes se agrupan en un solo cluster, mientras que un pequeño grupo de clientes se agrupa en otro cluster, y un solo cliente se agrupa en un cluster separado.\n",
    "\n",
    "- En resumen, el análisis de clustering realizadoo proporciona una visión valiosa de la estructura subyacente de los datos de los clientes, lo que puede ser utilizdo para mejorar la comprensión de las necesidades y preferencias de los clientes."
   ]
  },
  {
   "cell_type": "markdown",
   "metadata": {},
   "source": [
    "# conclusión \n",
    "En términos de estrategia de marketing y atención al cliente estos resultados sugieren que:\n",
    "- al mayoría de los clientes pueden ser atendidos de manera efectiva con una estrategia de marketing y atención al cliente estándar.\n",
    "- el grupo de clientes en el cluster 1 puede requerir una estrategia de marketing y atención al cliente más personalizadda y específica.\n",
    "\n",
    "- El cliente en el cluster 0 puede requerir una atención especial y personalizada, ya que no comparte características con los demás clientes."
   ]
  },
  {
   "cell_type": "code",
   "execution_count": 18,
   "metadata": {},
   "outputs": [
    {
     "name": "stdout",
     "output_type": "stream",
     "text": [
      "     gender  near_location   partner  promo_friends     phone  \\\n",
      "0  0.521246       0.881020  0.511331       0.347025  0.898017   \n",
      "1  0.514091       0.839650  0.451895       0.279883  0.897959   \n",
      "2  0.508721       0.824612  0.488372       0.293605  0.907946   \n",
      "3  0.511435       0.844075  0.495842       0.320166  0.902287   \n",
      "4  0.468635       0.856089  0.516605       0.332103  0.926199   \n",
      "\n",
      "   contract_period  group_visits        age  avg_additional_charges_total  \\\n",
      "0         5.400850      0.433428  29.344193                    250.984767   \n",
      "1         4.301263      0.407191  28.973761                    105.932804   \n",
      "2         4.198643      0.387597  28.908915                     35.600722   \n",
      "3         4.755717      0.423077  29.401247                    174.873445   \n",
      "4         5.822878      0.431734  29.845018                    356.481960   \n",
      "\n",
      "   month_to_end_contract  lifetime  avg_class_frequency_total  \\\n",
      "0               5.001416  4.169972                   1.903480   \n",
      "1               3.996113  3.544218                   1.852564   \n",
      "2               3.855620  3.394380                   1.836755   \n",
      "3               4.376299  3.749480                   1.895200   \n",
      "4               5.383764  4.420664                   2.019260   \n",
      "\n",
      "   avg_class_frequency_current_month     churn  \n",
      "0                           1.843255  0.178470  \n",
      "1                           1.708264  0.334305  \n",
      "2                           1.692641  0.349806  \n",
      "3                           1.785569  0.226611  \n",
      "4                           2.009382  0.044280  \n"
     ]
    }
   ],
   "source": [
    "#  los valores medios de característica para los clústeres.¿Hay algo que te llame la atención?\n",
    "\n",
    "mean_clusters=gym.groupby(kmeans.labels_).mean()\n",
    "print(mean_clusters)"
   ]
  },
  {
   "cell_type": "markdown",
   "metadata": {},
   "source": [
    "- Agunas características como la \"promo_friends\" tiene valores medios muy similares en todos los clusters. Esto sugiere que la promoción no es un factor importante para distinguir entre los clusters.\n",
    "\n",
    "- Algunos clusters, como el cluster 0, tienen valores medios muy bajos en algunas características, como la \"promo_firends\"y la \"avg_class_frequency_current_month\". esto sugiere que los clientes en este cluster pueden ser menos receptivos a promociones y tener un \"avg_class_frequency_current_month\" más baja.\n",
    "\n",
    "- En general, estos resultados te permiten entender mejor cómo se relacionan las diferentes características entre sí y cómo se distribución en cada cluster. esto puede ser útil para desarrollar estrategias de marketing y atención al cliente más efectivas."
   ]
  },
  {
   "cell_type": "markdown",
   "metadata": {},
   "source": [
    "# Traza distribuciones de características para los clústeres. ¿Notas algo?"
   ]
  },
  {
   "cell_type": "code",
   "execution_count": 19,
   "metadata": {
    "scrolled": true
   },
   "outputs": [
    {
     "data": {
      "image/png": "[encoded data removed]",
      "text/plain": [
       "<Figure size 1000x600 with 1 Axes>"
      ]
     },
     "metadata": {},
     "output_type": "display_data"
    }
   ],
   "source": [
    "# gráfico para mostrar las caracteristicas para cada cluster\n",
    "mean_clusters.plot(kind='bar', figsize=(10,6))\n",
    "plt.title('Distribución de características para los clusters')\n",
    "plt.xlabel('Cluster')\n",
    "plt.ylabel('Valor Medio')\n",
    "plt.show()"
   ]
  },
  {
   "cell_type": "markdown",
   "metadata": {},
   "source": [
    "- constata nuestras conclusiones previas sobre los resultados de los mismos.\n",
    "-  En resumen el avg_additional_charges_total, es una característica clave que influye en la segmentación de los clientes en diferentes clusters tiene una distribución única de características."
   ]
  },
  {
   "cell_type": "markdown",
   "metadata": {},
   "source": [
    "\n",
    "# Calcula la tasa de cancelación para cada clúster (utiliza el método groupby()). ¿Difieren en términos de tasa de cancelación? ¿Qué grupos son propensos a irse y cuáles son leales?"
   ]
  },
  {
   "cell_type": "code",
   "execution_count": 20,
   "metadata": {},
   "outputs": [
    {
     "name": "stdout",
     "output_type": "stream",
     "text": [
      "0    17.847025\n",
      "1    33.430515\n",
      "2    34.980620\n",
      "3    22.661123\n",
      "4     4.428044\n",
      "Name: churn, dtype: float64\n"
     ]
    }
   ],
   "source": [
    "tasa_cancelacion=gym.groupby(kmeans.labels_)['churn'].mean()*100\n",
    "\n",
    "print(tasa_cancelacion)"
   ]
  },
  {
   "cell_type": "markdown",
   "metadata": {},
   "source": [
    "- El cluster 0 y 3(bajo_moderada) son los más leales, con una tasa de cancelación mas bajas, lo que sugiere que los clientes tienen una probabilidad baja de cncelar su membresía.\n",
    "\n",
    "- los clusters 1 y 4 son los más propensos a cancelar, con tasas de cancelación altas.\n",
    "\n",
    "- El cluster 2 tiene una probabilidad moderada de cancelar su menbresía."
   ]
  },
  {
   "cell_type": "markdown",
   "metadata": {},
   "source": [
    "<div class=\"alert alert-block alert-success\">\n",
    "<b>Comentario del revisor (1ra Iteracion)</b> <a class=“tocSkip”></a>\n",
    "\n",
    "Bien hecho! Se nota claramente la segmentación entre los diferentes grupos ya que tienen un churn rate diferente\n",
    "    \n",
    "</div>"
   ]
  },
  {
   "cell_type": "markdown",
   "metadata": {},
   "source": [
    "# Paso 5. Saca conclusiones y haz recomendaciones básicas sobre el trabajo con clientes\n",
    "- Llega a conclusiones y formula recomendaciones con respecto a la estrategia para la interacción y retención de clientes.\n",
    "\n",
    "- No necesitas entrar en detalles. Bastarán tres o cuatro principios esenciales y ejemplos de su implementación en forma de pasos de marketing específicos."
   ]
  },
  {
   "cell_type": "markdown",
   "metadata": {},
   "source": [
    "- Principi 1 (Personalización)\n",
    "- Implementación: crear un programa de membresía personalizado que se adapte a las necesidades y objetivos individuales de cada cliente.\n",
    "\n",
    "- Pasos de Marketing: \n",
    "- Envío de correos electrónicos personalizados con recomendaciones de entrenamiento y servicio.\n",
    "- Asignación de un entrenador personal que se encargue de seguir el progreso del cliente.\n",
    "\n",
    "\n",
    "Principio 2: Comunicación efectiva \n",
    "\n",
    "- Implementación: establecer canales de comunicación claros y efectivos con los clientes para mantenerlos infoormados y comprometidos.\n",
    "\n",
    "- pasos de marketing:\n",
    "\n",
    "- creación de un boletín informativo mensual con noticias, promociones y consejos de entrenamiento.\n",
    "\n",
    "- Utilización de redes sociales para compartir contenido relevante e interactuar con los clientes.\n",
    "\n",
    "\n",
    "principio 3: Reconocimiento y recompensa\n",
    "\n",
    "- implementación: reconocer y recompensar a los clientes por su lealtad y logros.\n",
    "\n",
    "- pasos de marketing:\n",
    "\n",
    "- Creación de un programa de recompensas que ofrezca descuentos, servicios gratuitos o productos exclusivos.\n",
    "\n",
    "- organizacion de eventos y actividades especiales para los clientes más leales.\n",
    "\n",
    "Principio 4:Mejora Continua.\n",
    "\n",
    "\n",
    "-  implementación: Recopilar retroalimentación de los clientes y utilizarla para mejorar los servicios y programas del gimnasio.\n",
    "\n",
    "- pasos de marketing \n",
    "\n",
    "- Realización de encuestas y sondeos para recopilar retroalimentación de los clientes.\n",
    "\n",
    "- Análisis de resultados e implementación de cambios y mejoras en los servicios y programas del gimnasio. \n"
   ]
  },
  {
   "cell_type": "markdown",
   "metadata": {},
   "source": [
    "<div class=\"alert alert-block alert-success\">\n",
    "<b>Comentario general (1ra Iteracion)</b> <a class=“tocSkip”></a>\n",
    "\n",
    "Muy buen trabajo, manejaste muy bien los datos previo al entrenamiento de tus modelos y analizaste muy bien los resultados.\n",
    "    \n",
    "Te felicito por las conclusiones planteadas luego de ver los resultados de la segmentación utilizando los cluster, un buen análisis siempre debe venir acompañado de recomendaciones que ayuden a la toma de decisiones que en este caso haz planteado sugerencias muy buenas en cuanto a los diferentes tipos de usuarios obtenidos.\n",
    "    \n",
    "    \n",
    "Saludos!\n",
    "</div>"
   ]
  }
 ],
 "metadata": {
  "ExecuteTimeLog": [
   {
    "duration": 176,
    "start_time": "2025-02-24T14:28:01.426Z"
   },
   {
    "duration": 312,
    "start_time": "2025-02-24T14:29:02.686Z"
   },
   {
    "duration": 413,
    "start_time": "2025-02-24T14:29:03.144Z"
   },
   {
    "duration": 18,
    "start_time": "2025-02-24T14:30:22.092Z"
   },
   {
    "duration": 35,
    "start_time": "2025-02-24T14:30:34.554Z"
   },
   {
    "duration": 10,
    "start_time": "2025-02-24T14:51:01.029Z"
   },
   {
    "duration": 9,
    "start_time": "2025-02-24T14:51:39.585Z"
   },
   {
    "duration": 461,
    "start_time": "2025-02-24T14:52:08.635Z"
   },
   {
    "duration": 11,
    "start_time": "2025-02-24T14:52:31.110Z"
   },
   {
    "duration": 5,
    "start_time": "2025-02-24T14:52:42.908Z"
   },
   {
    "duration": 8,
    "start_time": "2025-02-24T14:53:01.748Z"
   },
   {
    "duration": 8,
    "start_time": "2025-02-24T14:53:44.989Z"
   },
   {
    "duration": 6,
    "start_time": "2025-02-24T14:54:15.176Z"
   },
   {
    "duration": 5,
    "start_time": "2025-02-24T14:54:22.555Z"
   },
   {
    "duration": 8,
    "start_time": "2025-02-24T14:54:43.357Z"
   },
   {
    "duration": 10,
    "start_time": "2025-02-24T15:14:17.255Z"
   },
   {
    "duration": 3,
    "start_time": "2025-02-24T15:16:52.823Z"
   },
   {
    "duration": 5,
    "start_time": "2025-02-24T15:16:55.755Z"
   },
   {
    "duration": 3,
    "start_time": "2025-02-24T15:18:21.762Z"
   },
   {
    "duration": 2,
    "start_time": "2025-02-24T15:19:24.291Z"
   },
   {
    "duration": 11,
    "start_time": "2025-02-24T15:19:24.295Z"
   },
   {
    "duration": 34,
    "start_time": "2025-02-24T15:19:24.440Z"
   },
   {
    "duration": 10,
    "start_time": "2025-02-24T15:19:24.936Z"
   },
   {
    "duration": 9,
    "start_time": "2025-02-24T15:19:25.124Z"
   },
   {
    "duration": 2,
    "start_time": "2025-02-24T15:19:25.263Z"
   },
   {
    "duration": 6,
    "start_time": "2025-02-24T15:19:25.972Z"
   },
   {
    "duration": 7,
    "start_time": "2025-02-24T15:19:26.657Z"
   },
   {
    "duration": 5,
    "start_time": "2025-02-24T15:19:27.362Z"
   },
   {
    "duration": 3,
    "start_time": "2025-02-24T15:19:40.313Z"
   },
   {
    "duration": 9,
    "start_time": "2025-02-24T15:19:40.555Z"
   },
   {
    "duration": 2335,
    "start_time": "2025-02-24T15:21:52.325Z"
   },
   {
    "duration": 10,
    "start_time": "2025-02-24T15:21:54.663Z"
   },
   {
    "duration": 32,
    "start_time": "2025-02-24T15:21:54.930Z"
   },
   {
    "duration": 9,
    "start_time": "2025-02-24T15:21:55.469Z"
   },
   {
    "duration": 10,
    "start_time": "2025-02-24T15:21:55.671Z"
   },
   {
    "duration": 3,
    "start_time": "2025-02-24T15:21:55.837Z"
   },
   {
    "duration": 6,
    "start_time": "2025-02-24T15:21:56.335Z"
   },
   {
    "duration": 8,
    "start_time": "2025-02-24T15:21:56.820Z"
   },
   {
    "duration": 2,
    "start_time": "2025-02-24T15:21:59.582Z"
   },
   {
    "duration": 10,
    "start_time": "2025-02-24T15:22:00.556Z"
   },
   {
    "duration": 2,
    "start_time": "2025-02-24T19:53:11.430Z"
   },
   {
    "duration": 11,
    "start_time": "2025-02-24T19:53:11.594Z"
   },
   {
    "duration": 31,
    "start_time": "2025-02-24T19:53:12.087Z"
   },
   {
    "duration": 8,
    "start_time": "2025-02-24T19:53:12.608Z"
   },
   {
    "duration": 9,
    "start_time": "2025-02-24T19:53:12.785Z"
   },
   {
    "duration": 3,
    "start_time": "2025-02-24T19:53:13.009Z"
   },
   {
    "duration": 6,
    "start_time": "2025-02-24T19:53:14.174Z"
   },
   {
    "duration": 7,
    "start_time": "2025-02-24T19:53:14.762Z"
   },
   {
    "duration": 3,
    "start_time": "2025-02-24T19:53:17.367Z"
   },
   {
    "duration": 9,
    "start_time": "2025-02-24T19:53:17.767Z"
   },
   {
    "duration": 182,
    "start_time": "2025-02-24T19:53:18.383Z"
   },
   {
    "duration": 11,
    "start_time": "2025-02-24T20:06:18.755Z"
   },
   {
    "duration": 1148,
    "start_time": "2025-02-24T20:18:09.231Z"
   },
   {
    "duration": 138,
    "start_time": "2025-02-24T20:53:39.139Z"
   },
   {
    "duration": 11,
    "start_time": "2025-02-24T20:53:40.790Z"
   },
   {
    "duration": 33,
    "start_time": "2025-02-24T20:53:41.962Z"
   },
   {
    "duration": 10,
    "start_time": "2025-02-24T20:53:42.458Z"
   },
   {
    "duration": 10,
    "start_time": "2025-02-24T20:53:42.626Z"
   },
   {
    "duration": 3,
    "start_time": "2025-02-24T20:53:42.781Z"
   },
   {
    "duration": 6,
    "start_time": "2025-02-24T20:53:43.109Z"
   },
   {
    "duration": 7,
    "start_time": "2025-02-24T20:53:43.263Z"
   },
   {
    "duration": 3,
    "start_time": "2025-02-24T20:53:43.961Z"
   },
   {
    "duration": 9,
    "start_time": "2025-02-24T20:53:44.412Z"
   },
   {
    "duration": 197,
    "start_time": "2025-02-24T20:53:44.827Z"
   },
   {
    "duration": 10,
    "start_time": "2025-02-24T20:53:46.420Z"
   },
   {
    "duration": 1431,
    "start_time": "2025-02-24T20:53:47.082Z"
   },
   {
    "duration": 98,
    "start_time": "2025-02-24T21:29:12.105Z"
   },
   {
    "duration": 1423,
    "start_time": "2025-02-24T21:34:22.378Z"
   },
   {
    "duration": 11,
    "start_time": "2025-02-24T21:36:51.043Z"
   },
   {
    "duration": 34,
    "start_time": "2025-02-24T21:36:51.499Z"
   },
   {
    "duration": 9,
    "start_time": "2025-02-24T21:36:51.918Z"
   },
   {
    "duration": 10,
    "start_time": "2025-02-24T21:36:52.066Z"
   },
   {
    "duration": 2,
    "start_time": "2025-02-24T21:36:52.196Z"
   },
   {
    "duration": 5,
    "start_time": "2025-02-24T21:36:52.497Z"
   },
   {
    "duration": 8,
    "start_time": "2025-02-24T21:36:52.644Z"
   },
   {
    "duration": 3,
    "start_time": "2025-02-24T21:36:53.264Z"
   },
   {
    "duration": 8,
    "start_time": "2025-02-24T21:36:53.441Z"
   },
   {
    "duration": 172,
    "start_time": "2025-02-24T21:36:53.905Z"
   },
   {
    "duration": 11,
    "start_time": "2025-02-24T21:36:55.595Z"
   },
   {
    "duration": 1114,
    "start_time": "2025-02-24T21:36:56.114Z"
   },
   {
    "duration": 6,
    "start_time": "2025-02-24T21:37:00.435Z"
   },
   {
    "duration": 5,
    "start_time": "2025-02-24T21:49:56.366Z"
   },
   {
    "duration": 601,
    "start_time": "2025-02-24T21:53:48.505Z"
   },
   {
    "duration": 287,
    "start_time": "2025-02-24T21:54:12.193Z"
   },
   {
    "duration": 3,
    "start_time": "2025-02-24T21:55:28.448Z"
   },
   {
    "duration": 3,
    "start_time": "2025-02-24T21:56:10.336Z"
   },
   {
    "duration": 10,
    "start_time": "2025-02-24T21:56:11.860Z"
   },
   {
    "duration": 33,
    "start_time": "2025-02-24T21:56:12.302Z"
   },
   {
    "duration": 9,
    "start_time": "2025-02-24T21:56:12.827Z"
   },
   {
    "duration": 10,
    "start_time": "2025-02-24T21:56:12.980Z"
   },
   {
    "duration": 5,
    "start_time": "2025-02-24T21:56:13.126Z"
   },
   {
    "duration": 6,
    "start_time": "2025-02-24T21:56:13.521Z"
   },
   {
    "duration": 8,
    "start_time": "2025-02-24T21:56:13.971Z"
   },
   {
    "duration": 3,
    "start_time": "2025-02-24T21:56:15.008Z"
   },
   {
    "duration": 8,
    "start_time": "2025-02-24T21:56:15.302Z"
   },
   {
    "duration": 167,
    "start_time": "2025-02-24T21:56:15.658Z"
   },
   {
    "duration": 10,
    "start_time": "2025-02-24T21:56:16.194Z"
   },
   {
    "duration": 1153,
    "start_time": "2025-02-24T21:56:16.489Z"
   },
   {
    "duration": 293,
    "start_time": "2025-02-24T21:56:17.645Z"
   },
   {
    "duration": 279,
    "start_time": "2025-02-24T21:56:24.836Z"
   },
   {
    "duration": 2,
    "start_time": "2025-02-24T21:59:52.746Z"
   },
   {
    "duration": 9,
    "start_time": "2025-02-24T22:00:02.538Z"
   },
   {
    "duration": 36,
    "start_time": "2025-02-24T22:00:03.241Z"
   },
   {
    "duration": 9,
    "start_time": "2025-02-24T22:00:03.890Z"
   },
   {
    "duration": 10,
    "start_time": "2025-02-24T22:00:04.056Z"
   },
   {
    "duration": 3,
    "start_time": "2025-02-24T22:00:04.214Z"
   },
   {
    "duration": 6,
    "start_time": "2025-02-24T22:00:04.544Z"
   },
   {
    "duration": 7,
    "start_time": "2025-02-24T22:00:04.711Z"
   },
   {
    "duration": 3,
    "start_time": "2025-02-24T22:00:05.420Z"
   },
   {
    "duration": 9,
    "start_time": "2025-02-24T22:00:05.843Z"
   },
   {
    "duration": 190,
    "start_time": "2025-02-24T22:00:06.348Z"
   },
   {
    "duration": 10,
    "start_time": "2025-02-24T22:00:07.030Z"
   },
   {
    "duration": 1161,
    "start_time": "2025-02-24T22:00:07.210Z"
   },
   {
    "duration": 301,
    "start_time": "2025-02-24T22:00:08.374Z"
   },
   {
    "duration": 3,
    "start_time": "2025-02-24T23:03:08.191Z"
   },
   {
    "duration": 9,
    "start_time": "2025-02-24T23:03:08.352Z"
   },
   {
    "duration": 32,
    "start_time": "2025-02-24T23:03:09.953Z"
   },
   {
    "duration": 9,
    "start_time": "2025-02-24T23:03:10.476Z"
   },
   {
    "duration": 10,
    "start_time": "2025-02-24T23:03:10.656Z"
   },
   {
    "duration": 3,
    "start_time": "2025-02-24T23:03:10.825Z"
   },
   {
    "duration": 6,
    "start_time": "2025-02-24T23:03:11.189Z"
   },
   {
    "duration": 8,
    "start_time": "2025-02-24T23:03:11.366Z"
   },
   {
    "duration": 3,
    "start_time": "2025-02-24T23:03:12.127Z"
   },
   {
    "duration": 9,
    "start_time": "2025-02-24T23:03:12.333Z"
   },
   {
    "duration": 168,
    "start_time": "2025-02-24T23:03:12.725Z"
   },
   {
    "duration": 10,
    "start_time": "2025-02-24T23:03:13.715Z"
   },
   {
    "duration": 1123,
    "start_time": "2025-02-24T23:03:13.943Z"
   },
   {
    "duration": 276,
    "start_time": "2025-02-24T23:03:16.340Z"
   },
   {
    "duration": 19,
    "start_time": "2025-02-24T23:04:58.066Z"
   },
   {
    "duration": 3,
    "start_time": "2025-02-24T23:05:13.751Z"
   },
   {
    "duration": 10,
    "start_time": "2025-02-24T23:05:15.252Z"
   },
   {
    "duration": 35,
    "start_time": "2025-02-24T23:05:15.806Z"
   },
   {
    "duration": 8,
    "start_time": "2025-02-24T23:05:16.330Z"
   },
   {
    "duration": 10,
    "start_time": "2025-02-24T23:05:16.513Z"
   },
   {
    "duration": 3,
    "start_time": "2025-02-24T23:05:16.703Z"
   },
   {
    "duration": 7,
    "start_time": "2025-02-24T23:05:17.211Z"
   },
   {
    "duration": 7,
    "start_time": "2025-02-24T23:05:17.420Z"
   },
   {
    "duration": 22,
    "start_time": "2025-02-24T23:06:20.191Z"
   },
   {
    "duration": 19,
    "start_time": "2025-02-24T23:07:37.402Z"
   },
   {
    "duration": 3,
    "start_time": "2025-02-24T23:08:31.970Z"
   },
   {
    "duration": 4,
    "start_time": "2025-02-24T23:11:38.681Z"
   },
   {
    "duration": 3,
    "start_time": "2025-02-24T23:11:43.080Z"
   },
   {
    "duration": 11,
    "start_time": "2025-02-24T23:11:44.537Z"
   },
   {
    "duration": 32,
    "start_time": "2025-02-24T23:11:45.027Z"
   },
   {
    "duration": 9,
    "start_time": "2025-02-24T23:11:45.493Z"
   },
   {
    "duration": 10,
    "start_time": "2025-02-24T23:11:45.640Z"
   },
   {
    "duration": 3,
    "start_time": "2025-02-24T23:11:45.799Z"
   },
   {
    "duration": 6,
    "start_time": "2025-02-24T23:11:46.219Z"
   },
   {
    "duration": 7,
    "start_time": "2025-02-24T23:11:46.389Z"
   },
   {
    "duration": 2,
    "start_time": "2025-02-24T23:11:47.010Z"
   },
   {
    "duration": 8,
    "start_time": "2025-02-24T23:11:47.181Z"
   },
   {
    "duration": 168,
    "start_time": "2025-02-24T23:11:47.520Z"
   },
   {
    "duration": 11,
    "start_time": "2025-02-24T23:11:48.888Z"
   },
   {
    "duration": 1144,
    "start_time": "2025-02-24T23:11:49.862Z"
   },
   {
    "duration": 279,
    "start_time": "2025-02-24T23:11:51.497Z"
   },
   {
    "duration": 268,
    "start_time": "2025-02-24T23:14:41.336Z"
   },
   {
    "duration": 3,
    "start_time": "2025-02-24T23:45:02.296Z"
   },
   {
    "duration": 9,
    "start_time": "2025-02-24T23:45:03.899Z"
   },
   {
    "duration": 31,
    "start_time": "2025-02-24T23:45:04.398Z"
   },
   {
    "duration": 10,
    "start_time": "2025-02-24T23:45:04.888Z"
   },
   {
    "duration": 10,
    "start_time": "2025-02-24T23:45:05.052Z"
   },
   {
    "duration": 3,
    "start_time": "2025-02-24T23:45:05.239Z"
   },
   {
    "duration": 6,
    "start_time": "2025-02-24T23:45:05.529Z"
   },
   {
    "duration": 7,
    "start_time": "2025-02-24T23:45:05.669Z"
   },
   {
    "duration": 3,
    "start_time": "2025-02-24T23:45:09.138Z"
   },
   {
    "duration": 8,
    "start_time": "2025-02-24T23:45:09.288Z"
   },
   {
    "duration": 169,
    "start_time": "2025-02-24T23:45:09.619Z"
   },
   {
    "duration": 21,
    "start_time": "2025-02-24T23:45:10.898Z"
   },
   {
    "duration": 1483,
    "start_time": "2025-02-24T23:45:11.115Z"
   },
   {
    "duration": 282,
    "start_time": "2025-02-24T23:45:13.017Z"
   },
   {
    "duration": 498,
    "start_time": "2025-02-25T01:05:54.207Z"
   },
   {
    "duration": 4,
    "start_time": "2025-02-25T01:16:47.058Z"
   },
   {
    "duration": 10,
    "start_time": "2025-02-25T01:16:49.213Z"
   },
   {
    "duration": 32,
    "start_time": "2025-02-25T01:16:49.732Z"
   },
   {
    "duration": 9,
    "start_time": "2025-02-25T01:16:50.223Z"
   },
   {
    "duration": 10,
    "start_time": "2025-02-25T01:16:50.413Z"
   },
   {
    "duration": 3,
    "start_time": "2025-02-25T01:16:50.578Z"
   },
   {
    "duration": 6,
    "start_time": "2025-02-25T01:16:50.898Z"
   },
   {
    "duration": 8,
    "start_time": "2025-02-25T01:16:51.059Z"
   },
   {
    "duration": 3,
    "start_time": "2025-02-25T01:16:51.722Z"
   },
   {
    "duration": 9,
    "start_time": "2025-02-25T01:16:51.892Z"
   },
   {
    "duration": 176,
    "start_time": "2025-02-25T01:16:52.208Z"
   },
   {
    "duration": 10,
    "start_time": "2025-02-25T01:16:53.313Z"
   },
   {
    "duration": 1138,
    "start_time": "2025-02-25T01:16:53.468Z"
   },
   {
    "duration": 267,
    "start_time": "2025-02-25T01:16:54.968Z"
   },
   {
    "duration": 578,
    "start_time": "2025-02-25T01:16:56.922Z"
   },
   {
    "duration": 585,
    "start_time": "2025-02-25T01:17:54.604Z"
   },
   {
    "duration": 4829,
    "start_time": "2025-02-25T14:56:58.159Z"
   },
   {
    "duration": 21,
    "start_time": "2025-02-25T14:57:02.991Z"
   },
   {
    "duration": 38,
    "start_time": "2025-02-25T14:57:03.013Z"
   },
   {
    "duration": 9,
    "start_time": "2025-02-25T14:57:03.053Z"
   },
   {
    "duration": 9,
    "start_time": "2025-02-25T14:57:03.064Z"
   },
   {
    "duration": 3,
    "start_time": "2025-02-25T14:57:03.074Z"
   },
   {
    "duration": 5,
    "start_time": "2025-02-25T14:57:03.079Z"
   },
   {
    "duration": 7,
    "start_time": "2025-02-25T14:57:03.085Z"
   },
   {
    "duration": 2,
    "start_time": "2025-02-25T14:57:03.094Z"
   },
   {
    "duration": 7,
    "start_time": "2025-02-25T14:57:03.131Z"
   },
   {
    "duration": 183,
    "start_time": "2025-02-25T14:57:03.140Z"
   },
   {
    "duration": 14,
    "start_time": "2025-02-25T14:57:03.325Z"
   },
   {
    "duration": 1199,
    "start_time": "2025-02-25T14:57:03.341Z"
   },
   {
    "duration": 275,
    "start_time": "2025-02-25T14:57:04.543Z"
   },
   {
    "duration": 534,
    "start_time": "2025-02-25T14:57:04.821Z"
   },
   {
    "duration": 3,
    "start_time": "2025-02-25T15:34:29.839Z"
   },
   {
    "duration": 10,
    "start_time": "2025-02-25T15:34:31.440Z"
   },
   {
    "duration": 32,
    "start_time": "2025-02-25T15:34:31.920Z"
   },
   {
    "duration": 12,
    "start_time": "2025-02-25T15:34:32.370Z"
   },
   {
    "duration": 11,
    "start_time": "2025-02-25T15:34:32.523Z"
   },
   {
    "duration": 2,
    "start_time": "2025-02-25T15:34:32.685Z"
   },
   {
    "duration": 5,
    "start_time": "2025-02-25T15:34:33.001Z"
   },
   {
    "duration": 7,
    "start_time": "2025-02-25T15:34:33.171Z"
   },
   {
    "duration": 2,
    "start_time": "2025-02-25T15:34:33.876Z"
   },
   {
    "duration": 9,
    "start_time": "2025-02-25T15:34:34.038Z"
   },
   {
    "duration": 179,
    "start_time": "2025-02-25T15:34:34.388Z"
   },
   {
    "duration": 9,
    "start_time": "2025-02-25T15:34:34.940Z"
   },
   {
    "duration": 1122,
    "start_time": "2025-02-25T15:34:35.115Z"
   },
   {
    "duration": 281,
    "start_time": "2025-02-25T15:34:36.239Z"
   },
   {
    "duration": 524,
    "start_time": "2025-02-25T15:34:36.523Z"
   },
   {
    "duration": 4,
    "start_time": "2025-02-25T15:42:05.881Z"
   },
   {
    "duration": 10,
    "start_time": "2025-02-25T15:42:06.828Z"
   },
   {
    "duration": 32,
    "start_time": "2025-02-25T15:42:07.523Z"
   },
   {
    "duration": 9,
    "start_time": "2025-02-25T15:42:08.215Z"
   },
   {
    "duration": 9,
    "start_time": "2025-02-25T15:42:08.475Z"
   },
   {
    "duration": 3,
    "start_time": "2025-02-25T15:42:08.766Z"
   },
   {
    "duration": 6,
    "start_time": "2025-02-25T15:42:09.167Z"
   },
   {
    "duration": 7,
    "start_time": "2025-02-25T15:42:09.408Z"
   },
   {
    "duration": 3,
    "start_time": "2025-02-25T15:42:10.379Z"
   },
   {
    "duration": 9,
    "start_time": "2025-02-25T15:42:10.596Z"
   },
   {
    "duration": 175,
    "start_time": "2025-02-25T15:42:11.063Z"
   },
   {
    "duration": 10,
    "start_time": "2025-02-25T15:42:11.811Z"
   },
   {
    "duration": 1231,
    "start_time": "2025-02-25T15:42:11.997Z"
   },
   {
    "duration": 284,
    "start_time": "2025-02-25T15:42:13.232Z"
   },
   {
    "duration": 654,
    "start_time": "2025-02-25T15:42:14.277Z"
   },
   {
    "duration": 433,
    "start_time": "2025-02-25T15:56:47.716Z"
   },
   {
    "duration": 555,
    "start_time": "2025-02-25T15:57:29.125Z"
   },
   {
    "duration": 22,
    "start_time": "2025-02-25T16:37:10.651Z"
   },
   {
    "duration": 10,
    "start_time": "2025-02-25T16:37:11.992Z"
   },
   {
    "duration": 30,
    "start_time": "2025-02-25T16:37:12.502Z"
   },
   {
    "duration": 8,
    "start_time": "2025-02-25T16:37:13.057Z"
   },
   {
    "duration": 9,
    "start_time": "2025-02-25T16:37:13.285Z"
   },
   {
    "duration": 3,
    "start_time": "2025-02-25T16:37:13.489Z"
   },
   {
    "duration": 5,
    "start_time": "2025-02-25T16:37:13.870Z"
   },
   {
    "duration": 6,
    "start_time": "2025-02-25T16:37:14.040Z"
   },
   {
    "duration": 5,
    "start_time": "2025-02-25T16:37:14.724Z"
   },
   {
    "duration": 9,
    "start_time": "2025-02-25T16:37:14.900Z"
   },
   {
    "duration": 161,
    "start_time": "2025-02-25T16:37:15.264Z"
   },
   {
    "duration": 10,
    "start_time": "2025-02-25T16:37:16.139Z"
   },
   {
    "duration": 1122,
    "start_time": "2025-02-25T16:37:16.323Z"
   },
   {
    "duration": 276,
    "start_time": "2025-02-25T16:37:17.447Z"
   },
   {
    "duration": 607,
    "start_time": "2025-02-25T16:37:19.434Z"
   },
   {
    "duration": 529,
    "start_time": "2025-02-25T16:37:21.352Z"
   },
   {
    "duration": 19,
    "start_time": "2025-02-25T18:11:43.567Z"
   },
   {
    "duration": 373,
    "start_time": "2025-02-25T19:23:09.560Z"
   },
   {
    "duration": 9,
    "start_time": "2025-02-25T19:40:53.038Z"
   },
   {
    "duration": 8,
    "start_time": "2025-02-25T20:29:37.978Z"
   },
   {
    "duration": 3912,
    "start_time": "2025-02-26T14:39:05.168Z"
   },
   {
    "duration": 19,
    "start_time": "2025-02-26T14:39:09.082Z"
   },
   {
    "duration": 35,
    "start_time": "2025-02-26T14:39:09.102Z"
   },
   {
    "duration": 9,
    "start_time": "2025-02-26T14:39:09.139Z"
   },
   {
    "duration": 9,
    "start_time": "2025-02-26T14:39:09.149Z"
   },
   {
    "duration": 3,
    "start_time": "2025-02-26T14:39:09.159Z"
   },
   {
    "duration": 6,
    "start_time": "2025-02-26T14:39:09.163Z"
   },
   {
    "duration": 6,
    "start_time": "2025-02-26T14:39:09.171Z"
   },
   {
    "duration": 2,
    "start_time": "2025-02-26T14:39:09.179Z"
   },
   {
    "duration": 45,
    "start_time": "2025-02-26T14:39:09.184Z"
   },
   {
    "duration": 183,
    "start_time": "2025-02-26T14:39:09.230Z"
   },
   {
    "duration": 19,
    "start_time": "2025-02-26T14:39:09.415Z"
   },
   {
    "duration": 1177,
    "start_time": "2025-02-26T14:39:09.536Z"
   },
   {
    "duration": 264,
    "start_time": "2025-02-26T14:39:10.716Z"
   },
   {
    "duration": 643,
    "start_time": "2025-02-26T14:39:10.983Z"
   },
   {
    "duration": 652,
    "start_time": "2025-02-26T14:39:11.628Z"
   },
   {
    "duration": 444,
    "start_time": "2025-02-26T14:39:12.282Z"
   },
   {
    "duration": 11,
    "start_time": "2025-02-26T14:39:12.730Z"
   },
   {
    "duration": 286,
    "start_time": "2025-02-26T15:01:30.476Z"
   },
   {
    "duration": 2320,
    "start_time": "2025-02-26T15:08:44.934Z"
   },
   {
    "duration": 6,
    "start_time": "2025-02-26T15:47:00.215Z"
   },
   {
    "duration": 4,
    "start_time": "2025-02-26T16:18:56.220Z"
   },
   {
    "duration": 9,
    "start_time": "2025-02-26T16:18:57.014Z"
   },
   {
    "duration": 41,
    "start_time": "2025-02-26T16:18:57.514Z"
   },
   {
    "duration": 9,
    "start_time": "2025-02-26T16:18:58.020Z"
   },
   {
    "duration": 12,
    "start_time": "2025-02-26T16:18:58.178Z"
   },
   {
    "duration": 3,
    "start_time": "2025-02-26T16:18:58.339Z"
   },
   {
    "duration": 6,
    "start_time": "2025-02-26T16:18:58.676Z"
   },
   {
    "duration": 7,
    "start_time": "2025-02-26T16:18:58.845Z"
   },
   {
    "duration": 3,
    "start_time": "2025-02-26T16:18:59.545Z"
   },
   {
    "duration": 8,
    "start_time": "2025-02-26T16:18:59.719Z"
   },
   {
    "duration": 167,
    "start_time": "2025-02-26T16:19:00.050Z"
   },
   {
    "duration": 14,
    "start_time": "2025-02-26T16:19:00.610Z"
   },
   {
    "duration": 1120,
    "start_time": "2025-02-26T16:19:00.794Z"
   },
   {
    "duration": 265,
    "start_time": "2025-02-26T16:19:02.511Z"
   },
   {
    "duration": 445,
    "start_time": "2025-02-26T16:19:04.891Z"
   },
   {
    "duration": 609,
    "start_time": "2025-02-26T16:19:07.173Z"
   },
   {
    "duration": 403,
    "start_time": "2025-02-26T16:19:09.245Z"
   },
   {
    "duration": 9,
    "start_time": "2025-02-26T16:19:09.834Z"
   },
   {
    "duration": 280,
    "start_time": "2025-02-26T16:19:10.386Z"
   },
   {
    "duration": 6,
    "start_time": "2025-02-26T16:19:11.774Z"
   },
   {
    "duration": 3860,
    "start_time": "2025-02-27T04:19:32.475Z"
   },
   {
    "duration": 73,
    "start_time": "2025-02-27T04:19:36.338Z"
   },
   {
    "duration": 94,
    "start_time": "2025-02-27T04:19:36.413Z"
   },
   {
    "duration": 13,
    "start_time": "2025-02-27T04:19:36.512Z"
   },
   {
    "duration": 14,
    "start_time": "2025-02-27T04:19:36.527Z"
   },
   {
    "duration": 3,
    "start_time": "2025-02-27T04:19:36.542Z"
   },
   {
    "duration": 4,
    "start_time": "2025-02-27T04:19:36.547Z"
   },
   {
    "duration": 7,
    "start_time": "2025-02-27T04:19:36.553Z"
   },
   {
    "duration": 2,
    "start_time": "2025-02-27T04:19:36.561Z"
   },
   {
    "duration": 46,
    "start_time": "2025-02-27T04:19:36.566Z"
   },
   {
    "duration": 227,
    "start_time": "2025-02-27T04:19:36.614Z"
   },
   {
    "duration": 11,
    "start_time": "2025-02-27T04:19:36.842Z"
   },
   {
    "duration": 1156,
    "start_time": "2025-02-27T04:19:36.856Z"
   },
   {
    "duration": 286,
    "start_time": "2025-02-27T04:19:38.014Z"
   },
   {
    "duration": 1006,
    "start_time": "2025-02-27T04:19:38.306Z"
   },
   {
    "duration": 639,
    "start_time": "2025-02-27T04:19:39.314Z"
   },
   {
    "duration": 582,
    "start_time": "2025-02-27T04:19:39.955Z"
   },
   {
    "duration": 67,
    "start_time": "2025-02-27T04:19:40.539Z"
   },
   {
    "duration": 465,
    "start_time": "2025-02-27T04:19:40.608Z"
   },
   {
    "duration": 9,
    "start_time": "2025-02-27T04:19:41.075Z"
   },
   {
    "duration": 3910,
    "start_time": "2025-02-27T13:33:48.481Z"
   },
   {
    "duration": 20,
    "start_time": "2025-02-27T13:33:52.393Z"
   },
   {
    "duration": 33,
    "start_time": "2025-02-27T13:33:52.415Z"
   },
   {
    "duration": 9,
    "start_time": "2025-02-27T13:33:52.450Z"
   },
   {
    "duration": 9,
    "start_time": "2025-02-27T13:33:52.460Z"
   },
   {
    "duration": 3,
    "start_time": "2025-02-27T13:33:52.473Z"
   },
   {
    "duration": 7,
    "start_time": "2025-02-27T13:33:52.887Z"
   },
   {
    "duration": 7,
    "start_time": "2025-02-27T13:33:54.016Z"
   },
   {
    "duration": 2,
    "start_time": "2025-02-27T13:33:56.097Z"
   },
   {
    "duration": 8,
    "start_time": "2025-02-27T13:33:56.291Z"
   },
   {
    "duration": 175,
    "start_time": "2025-02-27T13:33:56.847Z"
   }
  ],
  "kernelspec": {
   "display_name": "Python 3 (ipykernel)",
   "language": "python",
   "name": "python3"
  },
  "language_info": {
   "codemirror_mode": {
    "name": "ipython",
    "version": 3
   },
   "file_extension": ".py",
   "mimetype": "text/x-python",
   "name": "python",
   "nbconvert_exporter": "python",
   "pygments_lexer": "ipython3",
   "version": "3.9.19"
  },
  "toc": {
   "base_numbering": 1,
   "nav_menu": {},
   "number_sections": true,
   "sideBar": true,
   "skip_h1_title": true,
   "title_cell": "Table of Contents",
   "title_sidebar": "Contents",
   "toc_cell": false,
   "toc_position": {},
   "toc_section_display": true,
   "toc_window_display": false
  }
 },
 "nbformat": 4,
 "nbformat_minor": 2
}
